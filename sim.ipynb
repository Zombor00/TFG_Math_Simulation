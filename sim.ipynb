{
 "cells": [
  {
   "cell_type": "markdown",
   "metadata": {},
   "source": []
  },
  {
   "cell_type": "code",
   "execution_count": 33,
   "metadata": {},
   "outputs": [],
   "source": [
    "import numpy as np\n",
    "from matplotlib.collections import LineCollection\n",
    "from matplotlib import colors as mcolors\n",
    "import matplotlib.pyplot as plt\n",
    "import pylab as pl\n",
    "import random\n",
    "import math"
   ]
  },
  {
   "cell_type": "code",
   "execution_count": 34,
   "metadata": {},
   "outputs": [],
   "source": [
    "TAM_IMAGE = 32\n",
    "SCALING_LINES = 0.2\n",
    "THRESHOLD = 0.5\n",
    "DIFUSION_PARAMETER = 4\n",
    "MINIMUM_CLUSTERS_SIZE = 15\n",
    "d_0 = 10\n",
    "theta_0 = np.pi / 6\n",
    "delta = 1 / 4"
   ]
  },
  {
   "cell_type": "code",
   "execution_count": 35,
   "metadata": {},
   "outputs": [],
   "source": [
    "def distance_perona(point_i, point_j):\n",
    "    d_1 = -((point_j[0] - point_i[0])**2 + (point_j[1] - point_i[1])**2)/(d_0**2)\n",
    "    d_2 = -(2 - np.cos(2 * point_i[2]) - np.cos(2 * point_j[2]))/(1 - np.cos(2 * theta_0))\n",
    "    d_3 = -(1 - np.cos(2 * point_i[2] - 2 * point_j[2]))/(1 - np.cos(2 * delta * theta_0 ))\n",
    "    return np.exp(d_1 + d_2 + d_3)"
   ]
  },
  {
   "cell_type": "code",
   "execution_count": 36,
   "metadata": {},
   "outputs": [],
   "source": [
    "def affinity_matrix(points):\n",
    "    A = []\n",
    "    for point_i in points:\n",
    "        array = []\n",
    "        for point_j in points:\n",
    "            array.append(distance_perona(point_i, point_j))\n",
    "        A.append(array.copy())\n",
    "    return np.asmatrix(A)"
   ]
  },
  {
   "cell_type": "code",
   "execution_count": 37,
   "metadata": {},
   "outputs": [],
   "source": [
    "def degree_matrix(affinity_matrix):\n",
    "    length = len(affinity_matrix)\n",
    "    D = np.zeros((length, length))\n",
    "    for x in range(length):\n",
    "        sum = 0\n",
    "        for y in range(length):\n",
    "            sum += affinity_matrix[x,y]\n",
    "        D[x][x] = sum\n",
    "    return np.asmatrix(D)"
   ]
  },
  {
   "cell_type": "code",
   "execution_count": 38,
   "metadata": {},
   "outputs": [],
   "source": [
    "def random_points(prob_elim):\n",
    "    points = []\n",
    "    for x in range(TAM_IMAGE):\n",
    "        for y in range(TAM_IMAGE):\n",
    "            if(np.random.random() < prob_elim):\n",
    "                continue\n",
    "            else:\n",
    "                points.append([x, y, np.random.random() * 2 * np.pi])\n",
    "    return points"
   ]
  },
  {
   "cell_type": "code",
   "execution_count": 39,
   "metadata": {},
   "outputs": [],
   "source": [
    "def random_points_with_diagonal(prob_elim):\n",
    "    points = random_points(prob_elim)\n",
    "    points = [point for point in points if point[0] != point[1]]\n",
    "    for i in range(TAM_IMAGE):\n",
    "        points.append([i, i, np.pi / 4])\n",
    "    return points"
   ]
  },
  {
   "cell_type": "code",
   "execution_count": 54,
   "metadata": {},
   "outputs": [],
   "source": [
    "def random_points_with_circle(prob_elim):\n",
    "    points = random_points(prob_elim)\n",
    "    center = [round(TAM_IMAGE/2), round(TAM_IMAGE/2)]\n",
    "    radius = 5\n",
    "    num_points_circle = round(2 * np.pi * radius)\n",
    "    \n",
    "    for i in range(num_points_circle):\n",
    "        x = round(center[0] + radius * np.cos(2 * np.pi * i / num_points_circle))\n",
    "        y = round(center[1] + radius * np.sin(2 * np.pi * i / num_points_circle))\n",
    "        points = [point for point in points if not(point[0] == x and point[1] == y)]\n",
    "        if(x-center[0] == 0):\n",
    "            theta = 0\n",
    "        else:\n",
    "            theta = np.arctan((y-center[1])/(x-center[0])) + np.pi/2\n",
    "        points.append([x, y, theta])\n",
    "    return points"
   ]
  },
  {
   "cell_type": "code",
   "execution_count": 55,
   "metadata": {},
   "outputs": [],
   "source": [
    "def spectral_clustering(points):\n",
    "    # Paso 1\n",
    "    A = affinity_matrix(points)\n",
    "    \n",
    "    # Paso 2\n",
    "    D = degree_matrix(A)\n",
    "    Lrw = np.matmul(np.linalg.inv(D), A)\n",
    "\n",
    "    # Paso 3\n",
    "    vals, vects = np.linalg.eig(Lrw)\n",
    "    vects = vects.transpose()\n",
    "    eig = [vals, vects]\n",
    "\n",
    "    #Ordenamos los autovectores de manera decreciente:\n",
    "    indices = list(range(len(eig[0])))\n",
    "    indices.sort(key = eig[0].__getitem__, reverse=True)\n",
    "    for i, sublist in enumerate(eig):\n",
    "        eig[i] = [sublist[j] for j in indices]\n",
    "        \n",
    "    # Paso 5\n",
    "    q = len(eig[0]) - 1\n",
    "    for i in range(len(eig[0])):\n",
    "        if((eig[0][i] ** DIFUSION_PARAMETER) < 1 - THRESHOLD):\n",
    "            q = i - 1\n",
    "            break\n",
    "        \n",
    "    # Paso 6\n",
    "    clusters = []\n",
    "    for i in range(q):\n",
    "        clusters.append([])\n",
    "\n",
    "    for i in range(len(points)):\n",
    "        index_max = 0\n",
    "        max = eig[1][0][0,i]\n",
    "        for j in range(1,q):\n",
    "            if(eig[1][j][0,i] > max):\n",
    "                index_max = j\n",
    "                max = eig[1][j][0,i]\n",
    "        clusters[index_max].append(indices[i])\n",
    "        \n",
    "    print(q)\n",
    "        \n",
    "    # Paso 7\n",
    "    alone_cluster = []\n",
    "    for cluster in clusters:\n",
    "        if(len(cluster) < MINIMUM_CLUSTERS_SIZE):\n",
    "            alone_cluster += cluster\n",
    "    clusters = [cluster for cluster in clusters if len(cluster) >= MINIMUM_CLUSTERS_SIZE]\n",
    "    clusters = [alone_cluster] + clusters\n",
    "    return clusters, indices"
   ]
  },
  {
   "cell_type": "code",
   "execution_count": 56,
   "metadata": {},
   "outputs": [],
   "source": [
    "def print_image(points, clusters):\n",
    "    lines = []\n",
    "    for point in points:\n",
    "        x = point[0]\n",
    "        y = point[1]\n",
    "        theta = point[2]\n",
    "        cos = np.cos(theta)\n",
    "        sen = np.sin(theta)\n",
    "        lines.append([(x + SCALING_LINES * cos, y + SCALING_LINES * sen), \n",
    "                        (x - SCALING_LINES * cos, y - SCALING_LINES * sen)])\n",
    "            \n",
    "    colors_search = [[0,0,0,50]]\n",
    "    for _ in range(len(clusters) - 1):\n",
    "        r = random.randint(0,255)\n",
    "        g = random.randint(0,255)\n",
    "        b = random.randint(0,255)\n",
    "        w = 1\n",
    "        colors_search.append([r, g, b, w])        \n",
    "    \n",
    "    colors = []\n",
    "    for i in range(len(points)):\n",
    "        ind = [i in cluster for cluster in clusters].index(True)\n",
    "        colors.append(colors_search[ind])\n",
    "\n",
    "    # We need to set the plot limits.\n",
    "    fig, ax = plt.subplots()\n",
    "    ax.set_xlim(0 - 0.4, TAM_IMAGE + 0.2)\n",
    "    ax.set_ylim(0 - 0.4, TAM_IMAGE + 0.2)\n",
    "    \n",
    "    line_segments = LineCollection(lines,\n",
    "                               colors=colors, linestyle='solid')\n",
    "    ax.add_collection(line_segments)\n",
    "    ax.set_title('Simulation segment perception')\n",
    "    plt.show()"
   ]
  },
  {
   "cell_type": "code",
   "execution_count": 70,
   "metadata": {},
   "outputs": [],
   "source": [
    "TAM_IMAGE = 32\n",
    "SCALING_LINES = 0.2\n",
    "THRESHOLD = 0.5\n",
    "DIFUSION_PARAMETER = 4\n",
    "MINIMUM_CLUSTERS_SIZE = 15\n",
    "d_0 = 10\n",
    "theta_0 = np.pi / 6\n",
    "delta = 1 / 4"
   ]
  },
  {
   "cell_type": "code",
   "execution_count": 71,
   "metadata": {},
   "outputs": [
    {
     "name": "stdout",
     "output_type": "stream",
     "text": [
      "10\n"
     ]
    }
   ],
   "source": [
    "points = random_points_with_diagonal(0.85)\n",
    "clusters, indices = spectral_clustering(points)"
   ]
  },
  {
   "cell_type": "code",
   "execution_count": 72,
   "metadata": {},
   "outputs": [
    {
     "data": {
      "image/png": "[encoded data removed]",
      "text/plain": [
       "<Figure size 432x288 with 1 Axes>"
      ]
     },
     "metadata": {
      "needs_background": "light"
     },
     "output_type": "display_data"
    }
   ],
   "source": [
    "print_image(points, clusters)"
   ]
  },
  {
   "cell_type": "code",
   "execution_count": null,
   "metadata": {},
   "outputs": [],
   "source": [
    "TAM_IMAGE = 32\n",
    "SCALING_LINES = 0.2\n",
    "THRESHOLD = 0.5\n",
    "DIFUSION_PARAMETER = 4\n",
    "MINIMUM_CLUSTERS_SIZE = 15\n",
    "d_0 = 10\n",
    "theta_0 = np.pi / 6\n",
    "delta = 1 / 4"
   ]
  },
  {
   "cell_type": "code",
   "execution_count": 77,
   "metadata": {},
   "outputs": [
    {
     "name": "stdout",
     "output_type": "stream",
     "text": [
      "10\n"
     ]
    },
    {
     "data": {
      "image/png": "[encoded data removed]",
      "text/plain": [
       "<Figure size 432x288 with 1 Axes>"
      ]
     },
     "metadata": {
      "needs_background": "light"
     },
     "output_type": "display_data"
    }
   ],
   "source": [
    "points = random_points_with_circle(0.9)\n",
    "clusters, indices = spectral_clustering(points)\n",
    "\n",
    "print_image(points, clusters)"
   ]
  },
  {
   "cell_type": "code",
   "execution_count": null,
   "metadata": {},
   "outputs": [],
   "source": []
  }
 ],
 "metadata": {
  "interpreter": {
   "hash": "916dbcbb3f70747c44a77c7bcd40155683ae19c65e1c03b4aa3499c5328201f1"
  },
  "kernelspec": {
   "display_name": "Python 3.8.10 64-bit",
   "language": "python",
   "name": "python3"
  },
  "language_info": {
   "codemirror_mode": {
    "name": "ipython",
    "version": 3
   },
   "file_extension": ".py",
   "mimetype": "text/x-python",
   "name": "python",
   "nbconvert_exporter": "python",
   "pygments_lexer": "ipython3",
   "version": "3.8.10"
  },
  "orig_nbformat": 4
 },
 "nbformat": 4,
 "nbformat_minor": 2
}
