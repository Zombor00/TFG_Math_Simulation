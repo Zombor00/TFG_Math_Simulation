{
 "cells": [
  {
   "cell_type": "markdown",
   "metadata": {},
   "source": []
  },
  {
   "cell_type": "code",
   "execution_count": 281,
   "metadata": {},
   "outputs": [],
   "source": [
    "import numpy as np\n",
    "from matplotlib.collections import LineCollection\n",
    "from matplotlib import colors as mcolors\n",
    "import matplotlib.pyplot as plt\n",
    "import pylab as pl\n",
    "import random"
   ]
  },
  {
   "cell_type": "code",
   "execution_count": 546,
   "metadata": {},
   "outputs": [],
   "source": [
    "TAM_IMAGE = 8\n",
    "SCALING_LINES = 0.4\n",
    "THRESHOLD = 0.1\n",
    "DIFUSION_PARAMETER = 1\n",
    "MINIMUM_CLUSTERS_SIZE = 2\n",
    "d_0 = 5\n",
    "theta_0 = np.pi / 8\n",
    "delta = 1 / 3\n"
   ]
  },
  {
   "cell_type": "code",
   "execution_count": 547,
   "metadata": {},
   "outputs": [],
   "source": [
    "def distance_perona(point_i, point_j):\n",
    "    d_1 = -((point_j[0] - point_i[0])**2 + (point_j[1] - point_i[1])**2)/(d_0**2)\n",
    "    d_2 = -(2 - np.cos(2 * point_i[2]) - np.cos(2 * point_j[2]))/(1 - np.cos(2 * theta_0))\n",
    "    d_3 = -(1 - np.cos(2 * point_i[2] - 2 * point_j[2]))/(1 - np.cos(2 * delta * theta_0 ))\n",
    "    return np.exp(d_1 + d_2 + d_3)"
   ]
  },
  {
   "cell_type": "code",
   "execution_count": 548,
   "metadata": {},
   "outputs": [
    {
     "data": {
      "text/plain": [
       "0.0009993283798737766"
      ]
     },
     "execution_count": 548,
     "metadata": {},
     "output_type": "execute_result"
    }
   ],
   "source": [
    "# Ejemplo diagonal:\n",
    "point_i = [0, 0, np.pi / 4]\n",
    "point_j = [1, 1, np.pi / 4]\n",
    "distance_perona(point_i, point_j)"
   ]
  },
  {
   "cell_type": "code",
   "execution_count": 549,
   "metadata": {},
   "outputs": [],
   "source": [
    "def random_points(prob_elim):\n",
    "    points = []\n",
    "    for x in range(TAM_IMAGE):\n",
    "        for y in range(TAM_IMAGE):\n",
    "            if(np.random.random() < prob_elim):\n",
    "                continue\n",
    "            else:\n",
    "                points.append([x, y, np.random.random() * 2 * np.pi])\n",
    "    return points"
   ]
  },
  {
   "cell_type": "code",
   "execution_count": 550,
   "metadata": {},
   "outputs": [],
   "source": [
    "def affinity_matrix(points):\n",
    "    A = []\n",
    "    for point_i in points:\n",
    "        array = []\n",
    "        for point_j in points:\n",
    "            array.append(distance_perona(point_i, point_j))\n",
    "        A.append(array.copy())\n",
    "    return np.asmatrix(A)"
   ]
  },
  {
   "cell_type": "code",
   "execution_count": 551,
   "metadata": {},
   "outputs": [],
   "source": [
    "def degree_matrix(affinity_matrix):\n",
    "    length = len(affinity_matrix)\n",
    "    D = np.zeros((length, length))\n",
    "    for x in range(length):\n",
    "        sum = 0\n",
    "        for y in range(length):\n",
    "            sum += affinity_matrix[x,y]\n",
    "        D[x][x] = sum\n",
    "    return np.asmatrix(D)"
   ]
  },
  {
   "cell_type": "code",
   "execution_count": 552,
   "metadata": {},
   "outputs": [],
   "source": [
    "def random_points_with_diagonal(prob_elim):\n",
    "    points = random_points(prob_elim)\n",
    "    points = [point for point in points if point[0] != point[1]]\n",
    "    for i in range(TAM_IMAGE):\n",
    "        points.append([i, i, np.pi / 4])\n",
    "    return points"
   ]
  },
  {
   "cell_type": "code",
   "execution_count": 553,
   "metadata": {},
   "outputs": [],
   "source": [
    "def spectral_clustering(points):\n",
    "    # Paso 1\n",
    "    A = affinity_matrix(points)\n",
    "    \n",
    "    # Paso 2\n",
    "    D = degree_matrix(A)\n",
    "    Lrw = np.matmul(np.linalg.inv(D), A)\n",
    "\n",
    "    # Paso 3\n",
    "    vals, vects = np.linalg.eig(Lrw)\n",
    "    vects = vects.transpose()\n",
    "    eig = [vals, vects]\n",
    "\n",
    "    #Ordenamos los autovectores de manera decreciente:\n",
    "    indices = list(range(len(eig[0])))\n",
    "    indices.sort(key = eig[0].__getitem__, reverse=True)\n",
    "    for i, sublist in enumerate(eig):\n",
    "        eig[i] = [sublist[j] for j in indices]\n",
    "        \n",
    "    # Paso 5\n",
    "    print(eig[0])\n",
    "    q = len(eig[0]) - 1\n",
    "    for i in range(len(eig[0])):\n",
    "        if(eig[0][i] < 1 - THRESHOLD):\n",
    "            q = i - 1\n",
    "            break\n",
    "\n",
    "    # Paso 6\n",
    "    clusters = []\n",
    "    for i in range(q):\n",
    "        clusters.append([])\n",
    "\n",
    "    for i in range(len(points)):\n",
    "        index_max = 0\n",
    "        max = eig[1][0][0,i]\n",
    "        for j in range(1,q):\n",
    "            if(eig[1][j][0,i] > max):\n",
    "                index_max = j\n",
    "                max = eig[1][j][0,i]\n",
    "        clusters[index_max].append(indices[i])\n",
    "        \n",
    "    # Paso 7\n",
    "    alone_cluster = []\n",
    "    for cluster in clusters:\n",
    "        if(len(cluster) < MINIMUM_CLUSTERS_SIZE):\n",
    "            alone_cluster += cluster\n",
    "    clusters = [cluster for cluster in clusters if len(cluster) >= MINIMUM_CLUSTERS_SIZE]\n",
    "    clusters = [alone_cluster] + clusters\n",
    "    return clusters, indices"
   ]
  },
  {
   "cell_type": "code",
   "execution_count": 554,
   "metadata": {},
   "outputs": [
    {
     "name": "stdout",
     "output_type": "stream",
     "text": [
      "[1.0000000000000013, 0.9999999030139806, 0.9999657360154292, 0.9892141472428091, 0.9670292294367159, 0.961642812141421, 0.9322478796059777, 0.5129714879014637, 0.41402582686390405, 0.24589823752815693, 0.17409806728722665, 0.1452779381405325, 0.10895990829893311, 0.04365581284703128, 0.028904901106703955, 0.003836023571638138, 0.00034374356817222214, 1.9208077963301803e-05, 5.164198512321038e-07]\n"
     ]
    }
   ],
   "source": [
    "points = random_points_with_diagonal(0.8)\n",
    "clusters, indices = spectral_clustering(points)"
   ]
  },
  {
   "cell_type": "code",
   "execution_count": 555,
   "metadata": {},
   "outputs": [
    {
     "name": "stdout",
     "output_type": "stream",
     "text": [
      "[[9], [6, 3, 0], [5, 1, 7, 10], [4, 12, 13, 11, 14, 15, 16, 17, 18], [2, 8]]\n"
     ]
    }
   ],
   "source": [
    "print(clusters)"
   ]
  },
  {
   "cell_type": "code",
   "execution_count": 556,
   "metadata": {},
   "outputs": [],
   "source": [
    "def print_image(points, clusters):\n",
    "    lines = []\n",
    "    for point in points:\n",
    "        x = point[0]\n",
    "        y = point[1]\n",
    "        theta = point[2]\n",
    "        cos = np.cos(theta)\n",
    "        sen = np.sin(theta)\n",
    "        lines.append([(x + SCALING_LINES * cos, y + SCALING_LINES * sen), \n",
    "                        (x - SCALING_LINES * cos, y - SCALING_LINES * sen)])\n",
    "            \n",
    "    colors_search = [[0,0,0,100]]\n",
    "    for _ in range(len(clusters) - 1):\n",
    "        r = random.randint(0,255)\n",
    "        g = random.randint(0,255)\n",
    "        b = random.randint(0,255)\n",
    "        w = random.randint(0,255)\n",
    "        colors_search.append([r, g, b, w])        \n",
    "    \n",
    "    colors = []\n",
    "    for i in range(len(points)):\n",
    "        ind = [i in cluster for cluster in clusters].index(True)\n",
    "        colors.append(colors_search[ind])\n",
    "\n",
    "    # We need to set the plot limits.\n",
    "    fig, ax = plt.subplots()\n",
    "    ax.set_xlim(0, TAM_IMAGE)\n",
    "    ax.set_ylim(0, TAM_IMAGE)\n",
    "    \n",
    "    line_segments = LineCollection(lines, linewidths=(0.5, 1, 1.5, 2),\n",
    "                               colors=colors, linestyle='solid')\n",
    "    ax.add_collection(line_segments)\n",
    "    ax.set_title('Line collection with masked arrays')\n",
    "    plt.show()\n"
   ]
  },
  {
   "cell_type": "code",
   "execution_count": 557,
   "metadata": {},
   "outputs": [
    {
     "data": {
      "image/png": "[encoded data removed]",
      "text/plain": [
       "<Figure size 432x288 with 1 Axes>"
      ]
     },
     "metadata": {
      "needs_background": "light"
     },
     "output_type": "display_data"
    }
   ],
   "source": [
    "print_image(points, clusters)"
   ]
  },
  {
   "cell_type": "code",
   "execution_count": null,
   "metadata": {},
   "outputs": [],
   "source": []
  },
  {
   "cell_type": "code",
   "execution_count": null,
   "metadata": {},
   "outputs": [],
   "source": []
  }
 ],
 "metadata": {
  "interpreter": {
   "hash": "916dbcbb3f70747c44a77c7bcd40155683ae19c65e1c03b4aa3499c5328201f1"
  },
  "kernelspec": {
   "display_name": "Python 3.8.10 64-bit",
   "language": "python",
   "name": "python3"
  },
  "language_info": {
   "codemirror_mode": {
    "name": "ipython",
    "version": 3
   },
   "file_extension": ".py",
   "mimetype": "text/x-python",
   "name": "python",
   "nbconvert_exporter": "python",
   "pygments_lexer": "ipython3",
   "version": "3.8.10"
  },
  "orig_nbformat": 4
 },
 "nbformat": 4,
 "nbformat_minor": 2
}
